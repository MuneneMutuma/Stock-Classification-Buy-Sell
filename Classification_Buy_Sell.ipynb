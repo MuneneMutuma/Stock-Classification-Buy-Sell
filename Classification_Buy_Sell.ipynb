{
  "nbformat": 4,
  "nbformat_minor": 0,
  "metadata": {
    "colab": {
      "provenance": [],
      "authorship_tag": "ABX9TyNrzHuRdIOUD8e71eYwykCj",
      "include_colab_link": true
    },
    "kernelspec": {
      "name": "python3",
      "display_name": "Python 3"
    },
    "language_info": {
      "name": "python"
    }
  },
  "cells": [
    {
      "cell_type": "markdown",
      "metadata": {
        "id": "view-in-github",
        "colab_type": "text"
      },
      "source": [
        "<a href=\"https://colab.research.google.com/github/MuneneMutuma/Stock-Classification-Buy-Sell/blob/main/Classification_Buy_Sell.ipynb\" target=\"_parent\"><img src=\"https://colab.research.google.com/assets/colab-badge.svg\" alt=\"Open In Colab\"/></a>"
      ]
    },
    {
      "cell_type": "markdown",
      "source": [
        "# Classification"
      ],
      "metadata": {
        "id": "IRjISDAIrTpX"
      }
    },
    {
      "cell_type": "markdown",
      "source": [
        "### Import Libraries"
      ],
      "metadata": {
        "id": "OR7Eg4vXrWr7"
      }
    },
    {
      "cell_type": "code",
      "execution_count": null,
      "metadata": {
        "id": "R-2lyKl0gOgY"
      },
      "outputs": [],
      "source": [
        "from sklearn.model_selection import train_test_split\n",
        "from sklearn.linear_model import LogisticRegression\n",
        "from sklearn.metrics import mean_squared_error, confusion_matrix, roc_curve,roc_auc_score\n",
        "from sklearn import metrics\n",
        "\n",
        "\n",
        "import numpy as np\n",
        "import matplotlib.pyplot as plt\n",
        "import pandas as pd"
      ]
    },
    {
      "cell_type": "markdown",
      "source": [
        "## Download and Load Data"
      ],
      "metadata": {
        "id": "lV3cA-D4raSN"
      }
    },
    {
      "cell_type": "code",
      "source": [
        "!wget https://raw.githubusercontent.com/MuneneMutuma/stock-prediction/main/NSE_data_all_stocks_2022_jan_to_may.csv"
      ],
      "metadata": {
        "colab": {
          "base_uri": "https://localhost:8080/"
        },
        "id": "vGKFv6JMgYU1",
        "outputId": "19f0435b-f0bc-46cf-a284-e6035099436f"
      },
      "execution_count": null,
      "outputs": [
        {
          "output_type": "stream",
          "name": "stdout",
          "text": [
            "--2023-12-22 10:44:24--  https://raw.githubusercontent.com/MuneneMutuma/stock-prediction/main/NSE_data_all_stocks_2022_jan_to_may.csv\n",
            "Resolving raw.githubusercontent.com (raw.githubusercontent.com)... 185.199.108.133, 185.199.109.133, 185.199.110.133, ...\n",
            "Connecting to raw.githubusercontent.com (raw.githubusercontent.com)|185.199.108.133|:443... connected.\n",
            "HTTP request sent, awaiting response... 200 OK\n",
            "Length: 552108 (539K) [text/plain]\n",
            "Saving to: ‘NSE_data_all_stocks_2022_jan_to_may.csv’\n",
            "\n",
            "NSE_data_all_stocks 100%[===================>] 539.17K  --.-KB/s    in 0.04s   \n",
            "\n",
            "2023-12-22 10:44:25 (12.3 MB/s) - ‘NSE_data_all_stocks_2022_jan_to_may.csv’ saved [552108/552108]\n",
            "\n"
          ]
        }
      ]
    },
    {
      "cell_type": "code",
      "source": [
        "dataset_df = pd.read_csv('./NSE_data_all_stocks_2022_jan_to_may.csv')"
      ],
      "metadata": {
        "id": "NFJk6oNrgaFa"
      },
      "execution_count": null,
      "outputs": []
    },
    {
      "cell_type": "code",
      "source": [
        "dataset_df.head()"
      ],
      "metadata": {
        "colab": {
          "base_uri": "https://localhost:8080/",
          "height": 417
        },
        "id": "QI3swCksgdug",
        "outputId": "d59d5802-e06c-4e3d-d1ae-3990cb465201"
      },
      "execution_count": null,
      "outputs": [
        {
          "output_type": "execute_result",
          "data": {
            "text/plain": [
              "       Date  Code                     Name 12m Low 12m High Day Low Day High  \\\n",
              "0  3-Jan-22  EGAD              Eaagads Ltd      10       15    13.5     13.8   \n",
              "1  3-Jan-22  KUKZ               Kakuzi Plc     355      427     385      385   \n",
              "2  3-Jan-22  KAPC  Kapchorua Tea Kenya Plc      80      101    99.5     99.5   \n",
              "3  3-Jan-22  LIMT           Limuru Tea Plc     260      360     320      320   \n",
              "4  3-Jan-22  SASN               Sasini Plc   16.75     22.6    18.7     18.7   \n",
              "\n",
              "  Day Price Previous Change Change% Volume Adjusted Price  \n",
              "0      13.5     13.5      -       -  4,000              -  \n",
              "1       385      385      -       -      -              -  \n",
              "2      99.5     95.5      4   4.19%    100              -  \n",
              "3       320      320      -       -      -              -  \n",
              "4      18.7     18.7      -       -      -              -  "
            ],
            "text/html": [
              "\n",
              "  <div id=\"df-60c9b3c0-0856-4b76-bb65-6fd8e4a389b8\" class=\"colab-df-container\">\n",
              "    <div>\n",
              "<style scoped>\n",
              "    .dataframe tbody tr th:only-of-type {\n",
              "        vertical-align: middle;\n",
              "    }\n",
              "\n",
              "    .dataframe tbody tr th {\n",
              "        vertical-align: top;\n",
              "    }\n",
              "\n",
              "    .dataframe thead th {\n",
              "        text-align: right;\n",
              "    }\n",
              "</style>\n",
              "<table border=\"1\" class=\"dataframe\">\n",
              "  <thead>\n",
              "    <tr style=\"text-align: right;\">\n",
              "      <th></th>\n",
              "      <th>Date</th>\n",
              "      <th>Code</th>\n",
              "      <th>Name</th>\n",
              "      <th>12m Low</th>\n",
              "      <th>12m High</th>\n",
              "      <th>Day Low</th>\n",
              "      <th>Day High</th>\n",
              "      <th>Day Price</th>\n",
              "      <th>Previous</th>\n",
              "      <th>Change</th>\n",
              "      <th>Change%</th>\n",
              "      <th>Volume</th>\n",
              "      <th>Adjusted Price</th>\n",
              "    </tr>\n",
              "  </thead>\n",
              "  <tbody>\n",
              "    <tr>\n",
              "      <th>0</th>\n",
              "      <td>3-Jan-22</td>\n",
              "      <td>EGAD</td>\n",
              "      <td>Eaagads Ltd</td>\n",
              "      <td>10</td>\n",
              "      <td>15</td>\n",
              "      <td>13.5</td>\n",
              "      <td>13.8</td>\n",
              "      <td>13.5</td>\n",
              "      <td>13.5</td>\n",
              "      <td>-</td>\n",
              "      <td>-</td>\n",
              "      <td>4,000</td>\n",
              "      <td>-</td>\n",
              "    </tr>\n",
              "    <tr>\n",
              "      <th>1</th>\n",
              "      <td>3-Jan-22</td>\n",
              "      <td>KUKZ</td>\n",
              "      <td>Kakuzi Plc</td>\n",
              "      <td>355</td>\n",
              "      <td>427</td>\n",
              "      <td>385</td>\n",
              "      <td>385</td>\n",
              "      <td>385</td>\n",
              "      <td>385</td>\n",
              "      <td>-</td>\n",
              "      <td>-</td>\n",
              "      <td>-</td>\n",
              "      <td>-</td>\n",
              "    </tr>\n",
              "    <tr>\n",
              "      <th>2</th>\n",
              "      <td>3-Jan-22</td>\n",
              "      <td>KAPC</td>\n",
              "      <td>Kapchorua Tea Kenya Plc</td>\n",
              "      <td>80</td>\n",
              "      <td>101</td>\n",
              "      <td>99.5</td>\n",
              "      <td>99.5</td>\n",
              "      <td>99.5</td>\n",
              "      <td>95.5</td>\n",
              "      <td>4</td>\n",
              "      <td>4.19%</td>\n",
              "      <td>100</td>\n",
              "      <td>-</td>\n",
              "    </tr>\n",
              "    <tr>\n",
              "      <th>3</th>\n",
              "      <td>3-Jan-22</td>\n",
              "      <td>LIMT</td>\n",
              "      <td>Limuru Tea Plc</td>\n",
              "      <td>260</td>\n",
              "      <td>360</td>\n",
              "      <td>320</td>\n",
              "      <td>320</td>\n",
              "      <td>320</td>\n",
              "      <td>320</td>\n",
              "      <td>-</td>\n",
              "      <td>-</td>\n",
              "      <td>-</td>\n",
              "      <td>-</td>\n",
              "    </tr>\n",
              "    <tr>\n",
              "      <th>4</th>\n",
              "      <td>3-Jan-22</td>\n",
              "      <td>SASN</td>\n",
              "      <td>Sasini Plc</td>\n",
              "      <td>16.75</td>\n",
              "      <td>22.6</td>\n",
              "      <td>18.7</td>\n",
              "      <td>18.7</td>\n",
              "      <td>18.7</td>\n",
              "      <td>18.7</td>\n",
              "      <td>-</td>\n",
              "      <td>-</td>\n",
              "      <td>-</td>\n",
              "      <td>-</td>\n",
              "    </tr>\n",
              "  </tbody>\n",
              "</table>\n",
              "</div>\n",
              "    <div class=\"colab-df-buttons\">\n",
              "\n",
              "  <div class=\"colab-df-container\">\n",
              "    <button class=\"colab-df-convert\" onclick=\"convertToInteractive('df-60c9b3c0-0856-4b76-bb65-6fd8e4a389b8')\"\n",
              "            title=\"Convert this dataframe to an interactive table.\"\n",
              "            style=\"display:none;\">\n",
              "\n",
              "  <svg xmlns=\"http://www.w3.org/2000/svg\" height=\"24px\" viewBox=\"0 -960 960 960\">\n",
              "    <path d=\"M120-120v-720h720v720H120Zm60-500h600v-160H180v160Zm220 220h160v-160H400v160Zm0 220h160v-160H400v160ZM180-400h160v-160H180v160Zm440 0h160v-160H620v160ZM180-180h160v-160H180v160Zm440 0h160v-160H620v160Z\"/>\n",
              "  </svg>\n",
              "    </button>\n",
              "\n",
              "  <style>\n",
              "    .colab-df-container {\n",
              "      display:flex;\n",
              "      gap: 12px;\n",
              "    }\n",
              "\n",
              "    .colab-df-convert {\n",
              "      background-color: #E8F0FE;\n",
              "      border: none;\n",
              "      border-radius: 50%;\n",
              "      cursor: pointer;\n",
              "      display: none;\n",
              "      fill: #1967D2;\n",
              "      height: 32px;\n",
              "      padding: 0 0 0 0;\n",
              "      width: 32px;\n",
              "    }\n",
              "\n",
              "    .colab-df-convert:hover {\n",
              "      background-color: #E2EBFA;\n",
              "      box-shadow: 0px 1px 2px rgba(60, 64, 67, 0.3), 0px 1px 3px 1px rgba(60, 64, 67, 0.15);\n",
              "      fill: #174EA6;\n",
              "    }\n",
              "\n",
              "    .colab-df-buttons div {\n",
              "      margin-bottom: 4px;\n",
              "    }\n",
              "\n",
              "    [theme=dark] .colab-df-convert {\n",
              "      background-color: #3B4455;\n",
              "      fill: #D2E3FC;\n",
              "    }\n",
              "\n",
              "    [theme=dark] .colab-df-convert:hover {\n",
              "      background-color: #434B5C;\n",
              "      box-shadow: 0px 1px 3px 1px rgba(0, 0, 0, 0.15);\n",
              "      filter: drop-shadow(0px 1px 2px rgba(0, 0, 0, 0.3));\n",
              "      fill: #FFFFFF;\n",
              "    }\n",
              "  </style>\n",
              "\n",
              "    <script>\n",
              "      const buttonEl =\n",
              "        document.querySelector('#df-60c9b3c0-0856-4b76-bb65-6fd8e4a389b8 button.colab-df-convert');\n",
              "      buttonEl.style.display =\n",
              "        google.colab.kernel.accessAllowed ? 'block' : 'none';\n",
              "\n",
              "      async function convertToInteractive(key) {\n",
              "        const element = document.querySelector('#df-60c9b3c0-0856-4b76-bb65-6fd8e4a389b8');\n",
              "        const dataTable =\n",
              "          await google.colab.kernel.invokeFunction('convertToInteractive',\n",
              "                                                    [key], {});\n",
              "        if (!dataTable) return;\n",
              "\n",
              "        const docLinkHtml = 'Like what you see? Visit the ' +\n",
              "          '<a target=\"_blank\" href=https://colab.research.google.com/notebooks/data_table.ipynb>data table notebook</a>'\n",
              "          + ' to learn more about interactive tables.';\n",
              "        element.innerHTML = '';\n",
              "        dataTable['output_type'] = 'display_data';\n",
              "        await google.colab.output.renderOutput(dataTable, element);\n",
              "        const docLink = document.createElement('div');\n",
              "        docLink.innerHTML = docLinkHtml;\n",
              "        element.appendChild(docLink);\n",
              "      }\n",
              "    </script>\n",
              "  </div>\n",
              "\n",
              "\n",
              "<div id=\"df-2b4de1b8-d999-47d2-99eb-8e2f58bc4cbf\">\n",
              "  <button class=\"colab-df-quickchart\" onclick=\"quickchart('df-2b4de1b8-d999-47d2-99eb-8e2f58bc4cbf')\"\n",
              "            title=\"Suggest charts\"\n",
              "            style=\"display:none;\">\n",
              "\n",
              "<svg xmlns=\"http://www.w3.org/2000/svg\" height=\"24px\"viewBox=\"0 0 24 24\"\n",
              "     width=\"24px\">\n",
              "    <g>\n",
              "        <path d=\"M19 3H5c-1.1 0-2 .9-2 2v14c0 1.1.9 2 2 2h14c1.1 0 2-.9 2-2V5c0-1.1-.9-2-2-2zM9 17H7v-7h2v7zm4 0h-2V7h2v10zm4 0h-2v-4h2v4z\"/>\n",
              "    </g>\n",
              "</svg>\n",
              "  </button>\n",
              "\n",
              "<style>\n",
              "  .colab-df-quickchart {\n",
              "      --bg-color: #E8F0FE;\n",
              "      --fill-color: #1967D2;\n",
              "      --hover-bg-color: #E2EBFA;\n",
              "      --hover-fill-color: #174EA6;\n",
              "      --disabled-fill-color: #AAA;\n",
              "      --disabled-bg-color: #DDD;\n",
              "  }\n",
              "\n",
              "  [theme=dark] .colab-df-quickchart {\n",
              "      --bg-color: #3B4455;\n",
              "      --fill-color: #D2E3FC;\n",
              "      --hover-bg-color: #434B5C;\n",
              "      --hover-fill-color: #FFFFFF;\n",
              "      --disabled-bg-color: #3B4455;\n",
              "      --disabled-fill-color: #666;\n",
              "  }\n",
              "\n",
              "  .colab-df-quickchart {\n",
              "    background-color: var(--bg-color);\n",
              "    border: none;\n",
              "    border-radius: 50%;\n",
              "    cursor: pointer;\n",
              "    display: none;\n",
              "    fill: var(--fill-color);\n",
              "    height: 32px;\n",
              "    padding: 0;\n",
              "    width: 32px;\n",
              "  }\n",
              "\n",
              "  .colab-df-quickchart:hover {\n",
              "    background-color: var(--hover-bg-color);\n",
              "    box-shadow: 0 1px 2px rgba(60, 64, 67, 0.3), 0 1px 3px 1px rgba(60, 64, 67, 0.15);\n",
              "    fill: var(--button-hover-fill-color);\n",
              "  }\n",
              "\n",
              "  .colab-df-quickchart-complete:disabled,\n",
              "  .colab-df-quickchart-complete:disabled:hover {\n",
              "    background-color: var(--disabled-bg-color);\n",
              "    fill: var(--disabled-fill-color);\n",
              "    box-shadow: none;\n",
              "  }\n",
              "\n",
              "  .colab-df-spinner {\n",
              "    border: 2px solid var(--fill-color);\n",
              "    border-color: transparent;\n",
              "    border-bottom-color: var(--fill-color);\n",
              "    animation:\n",
              "      spin 1s steps(1) infinite;\n",
              "  }\n",
              "\n",
              "  @keyframes spin {\n",
              "    0% {\n",
              "      border-color: transparent;\n",
              "      border-bottom-color: var(--fill-color);\n",
              "      border-left-color: var(--fill-color);\n",
              "    }\n",
              "    20% {\n",
              "      border-color: transparent;\n",
              "      border-left-color: var(--fill-color);\n",
              "      border-top-color: var(--fill-color);\n",
              "    }\n",
              "    30% {\n",
              "      border-color: transparent;\n",
              "      border-left-color: var(--fill-color);\n",
              "      border-top-color: var(--fill-color);\n",
              "      border-right-color: var(--fill-color);\n",
              "    }\n",
              "    40% {\n",
              "      border-color: transparent;\n",
              "      border-right-color: var(--fill-color);\n",
              "      border-top-color: var(--fill-color);\n",
              "    }\n",
              "    60% {\n",
              "      border-color: transparent;\n",
              "      border-right-color: var(--fill-color);\n",
              "    }\n",
              "    80% {\n",
              "      border-color: transparent;\n",
              "      border-right-color: var(--fill-color);\n",
              "      border-bottom-color: var(--fill-color);\n",
              "    }\n",
              "    90% {\n",
              "      border-color: transparent;\n",
              "      border-bottom-color: var(--fill-color);\n",
              "    }\n",
              "  }\n",
              "</style>\n",
              "\n",
              "  <script>\n",
              "    async function quickchart(key) {\n",
              "      const quickchartButtonEl =\n",
              "        document.querySelector('#' + key + ' button');\n",
              "      quickchartButtonEl.disabled = true;  // To prevent multiple clicks.\n",
              "      quickchartButtonEl.classList.add('colab-df-spinner');\n",
              "      try {\n",
              "        const charts = await google.colab.kernel.invokeFunction(\n",
              "            'suggestCharts', [key], {});\n",
              "      } catch (error) {\n",
              "        console.error('Error during call to suggestCharts:', error);\n",
              "      }\n",
              "      quickchartButtonEl.classList.remove('colab-df-spinner');\n",
              "      quickchartButtonEl.classList.add('colab-df-quickchart-complete');\n",
              "    }\n",
              "    (() => {\n",
              "      let quickchartButtonEl =\n",
              "        document.querySelector('#df-2b4de1b8-d999-47d2-99eb-8e2f58bc4cbf button');\n",
              "      quickchartButtonEl.style.display =\n",
              "        google.colab.kernel.accessAllowed ? 'block' : 'none';\n",
              "    })();\n",
              "  </script>\n",
              "</div>\n",
              "\n",
              "    </div>\n",
              "  </div>\n"
            ]
          },
          "metadata": {},
          "execution_count": 5
        }
      ]
    },
    {
      "cell_type": "markdown",
      "source": [
        "## EDA"
      ],
      "metadata": {
        "id": "CQ6OMCsIreqa"
      }
    },
    {
      "cell_type": "code",
      "source": [
        "dataset_df.Change.unique()"
      ],
      "metadata": {
        "colab": {
          "base_uri": "https://localhost:8080/"
        },
        "id": "zoS254UXhGfi",
        "outputId": "30edfdf8-cf21-4c6c-f47a-2ada3de489af"
      },
      "execution_count": null,
      "outputs": [
        {
          "output_type": "execute_result",
          "data": {
            "text/plain": [
              "array(['-', '4', '2', '-0.1', '0.05', '0.3', '0.1', '0.25', '-0.25',\n",
              "       '1.75', '0.07', '-0.03', '-0.38', '1.3', '-0.01', '-0.04', '0.2',\n",
              "       '0.03', '-0.16', '-0.5', '0.06', '0.55', '-1.5', '0.5', '0.16',\n",
              "       '-0.65', '-9.5', '-2', '-0.05', '0.02', '-0.54', '-0.45', '0.01',\n",
              "       '0.15', '0.12', '0.9', '35', '1.25', '-1.25', '-3.35', '2.5',\n",
              "       '-0.09', '0.45', '-0.08', '-0.6', '0.4', '-0.07', '-0.02', '-0.2',\n",
              "       '-0.3', '0.95', '3.1', '0.08', '0.35', '0.75', '-0.17', '1.35',\n",
              "       '-0.15', '-6.25', '-3', '0.38', '1', '3.35', '-0.06', '0.04',\n",
              "       '-0.7', '3.65', '-0.35', '-0.14', '-1.05', '-1.4', '0.34', '-35',\n",
              "       '5.25', '2.75', '4.05', '-0.75', '-0.55', '0.26', '0.14', '0.6',\n",
              "       '-0.36', '3', '-2.25', '-0.9', '1.65', '-4.5', '4.45', '-1.75',\n",
              "       '-0.4', '-0.22', '-0.18', '-1', '4.8', '-0.13', '-8.5', '-1.15',\n",
              "       '0.23', '-0.47', '0.7', '1.4', '1.7', '6.75', '0.8', '-1.55',\n",
              "       '-0.34', '-1.3', '6.25', '0.65', '-0.42', '-0.24', '3.25', '0.17',\n",
              "       '12.5', '34', '-2.5', '0.11', '0.62', '-7.25', '5', '0.37',\n",
              "       '-0.39', '0.09', '1.2', '-0.11', '1.5', '-5', '-0.95', '1.55',\n",
              "       '-0.12', '-8.75', '0.32', '-6.5', '8.75', '7', '-6', '0.22',\n",
              "       '-1.6', '-6.75', '-3.75', '-0.28', '-0.49', '4.75', '3.5', '0.28',\n",
              "       '0.27', '-0.85', '6', '-0.29', '20', '-5.25', '2.25', '-20', '-9',\n",
              "       '-3.25', '-4.75', '-2.75', '-0.19', '4.5', '-1.35', '-0.43',\n",
              "       '0.76', '-18.25', '2.85', '0.85', '0.18', '3.15', '-8', '15',\n",
              "       '-3.5', '-3.15', '0.19', '1.15', '20.75', '-0.8', '-22.5', '-4.25',\n",
              "       '1.05', '22.75', '-3.1', '-1.2', '18.25', '22.5', '-11.25',\n",
              "       '-11.75', '-2.7', '-2.05', '1.1', '-0.72', '-8.25', '-7.75', '2.7',\n",
              "       '4.25', '-12.5', '195', '-0.26', '3.75', '0.13', '-0.44', '0.21',\n",
              "       '2.35', '9.75', '-0.56', '-1.85', '-40', '-1.1', '0.33', '6.5',\n",
              "       '2.4', '-0.23', '-1.9', '-0.58', '0.24', '0.56', '0.54', '8.25',\n",
              "       '10', '5.75', '0.36', '0.48', '-12.75', '0.52', '13', '-0.66',\n",
              "       '45', '19.25', '-0.32', '1.95', '-5.75', '-2.35', '50', '-18',\n",
              "       '-3.95', '-0.21', '2.15', '8.5', '-3.55', '1.85', '-2.85', '-22',\n",
              "       '0.46', '-1.65', '-0.77', '-1.45', '-14.25', '0.31', '-4', '7.25',\n",
              "       '12.75', '-5.5', '-2.15', '2.55', '-2.45', '-13.5', '-9.75',\n",
              "       '11.75', '5.5', '1.6', '-12.25', '-0.52', '32', '2.1', '-0.27',\n",
              "       '7.75', '11', '0.44', '-2.65'], dtype=object)"
            ]
          },
          "metadata": {},
          "execution_count": 6
        }
      ]
    },
    {
      "cell_type": "markdown",
      "source": [
        "## Preprocessing"
      ],
      "metadata": {
        "id": "Ol7SLQn_rjSX"
      }
    },
    {
      "cell_type": "code",
      "source": [
        "dataset_df['Change'].replace('-', 0, inplace=True)\n",
        "dataset_df['Change'] = dataset_df['Change'].astype(float)"
      ],
      "metadata": {
        "id": "g9ekVMEihSok"
      },
      "execution_count": null,
      "outputs": []
    },
    {
      "cell_type": "code",
      "source": [
        "dataset_df['Direction'] = dataset_df['Change'].apply(lambda x: 1 if x > 0 else 0)"
      ],
      "metadata": {
        "id": "FZwi17Z7gg7b"
      },
      "execution_count": null,
      "outputs": []
    },
    {
      "cell_type": "markdown",
      "source": [
        "## Feature Selection"
      ],
      "metadata": {
        "id": "DVpcHMo-rmBH"
      }
    },
    {
      "cell_type": "code",
      "source": [
        "features = ['12m High', '12m Low', 'Day Low', 'Day High', 'Change']\n",
        "target_variable = 'Direction'"
      ],
      "metadata": {
        "id": "kitVzmnjh5Qi"
      },
      "execution_count": null,
      "outputs": []
    },
    {
      "cell_type": "code",
      "source": [
        "dataset_df[features] = dataset_df[features].replace({',': ''}, regex=True)\n",
        "dataset_df[features] = dataset_df[features].astype(float)"
      ],
      "metadata": {
        "id": "n2xk9ipikGpF"
      },
      "execution_count": null,
      "outputs": []
    },
    {
      "cell_type": "markdown",
      "source": [
        "## Train Test Split"
      ],
      "metadata": {
        "id": "aLj26tfPruIc"
      }
    },
    {
      "cell_type": "code",
      "source": [
        "X_train, X_test, y_train, y_test = train_test_split(dataset_df[features], dataset_df[target_variable], test_size=0.2, random_state=42, shuffle=False)"
      ],
      "metadata": {
        "id": "cmZZ6wH9iP0J"
      },
      "execution_count": null,
      "outputs": []
    },
    {
      "cell_type": "markdown",
      "source": [
        "## Model Training"
      ],
      "metadata": {
        "id": "vYJuYMyGrxBX"
      }
    },
    {
      "cell_type": "code",
      "source": [
        "logclass = LogisticRegression()\n",
        "log_pred = logclass.fit(X_train, y_train)"
      ],
      "metadata": {
        "id": "I5jjE-wViZQ6"
      },
      "execution_count": null,
      "outputs": []
    },
    {
      "cell_type": "code",
      "source": [
        "probability = log_pred.predict_proba(X_test)\n",
        "predicted = log_pred.predict(X_test)"
      ],
      "metadata": {
        "id": "sqivct7Fi5WR"
      },
      "execution_count": null,
      "outputs": []
    },
    {
      "cell_type": "code",
      "source": [
        "log_pred.classes_"
      ],
      "metadata": {
        "colab": {
          "base_uri": "https://localhost:8080/"
        },
        "id": "1FpoP9PzmUtb",
        "outputId": "88a53d50-0e95-4fa1-ac75-5c2e650e3695"
      },
      "execution_count": null,
      "outputs": [
        {
          "output_type": "execute_result",
          "data": {
            "text/plain": [
              "array([0, 1])"
            ]
          },
          "metadata": {},
          "execution_count": 14
        }
      ]
    },
    {
      "cell_type": "markdown",
      "source": [
        "## Performance Analysis"
      ],
      "metadata": {
        "id": "_qmWSHoBr1yJ"
      }
    },
    {
      "cell_type": "code",
      "source": [
        "cf_matrix = confusion_matrix(y_test, predicted)"
      ],
      "metadata": {
        "id": "gHDu3uIelb28"
      },
      "execution_count": null,
      "outputs": []
    },
    {
      "cell_type": "code",
      "source": [
        "cm_display = metrics.ConfusionMatrixDisplay(confusion_matrix = cf_matrix, display_labels = [False, True])\n",
        "\n",
        "cm_display.plot()\n",
        "plt.show()"
      ],
      "metadata": {
        "colab": {
          "base_uri": "https://localhost:8080/",
          "height": 449
        },
        "id": "gAa9-1xylyrY",
        "outputId": "bc2cb8bb-84ee-4efb-d1f0-383097697af1"
      },
      "execution_count": null,
      "outputs": [
        {
          "output_type": "display_data",
          "data": {
            "text/plain": [
              "<Figure size 640x480 with 2 Axes>"
            ],
            "image/png": "[encoded data removed]"
          },
          "metadata": {}
        }
      ]
    },
    {
      "cell_type": "code",
      "source": [
        "accuracy = metrics.accuracy_score(y_test, predicted)\n",
        "accuracy"
      ],
      "metadata": {
        "colab": {
          "base_uri": "https://localhost:8080/"
        },
        "id": "lRjUIbJcmyKr",
        "outputId": "e6bff8e0-3313-426b-92cb-abb7249a7a67"
      },
      "execution_count": null,
      "outputs": [
        {
          "output_type": "execute_result",
          "data": {
            "text/plain": [
              "0.9057164068299925"
            ]
          },
          "metadata": {},
          "execution_count": 17
        }
      ]
    },
    {
      "cell_type": "code",
      "source": [
        "def plot_roc_curve(y_test, y_prob):\n",
        "    fpr, tpr, thresholds = roc_curve(y_test, y_prob[:, 1])\n",
        "    area = roc_auc_score(y_test, probability[:, 1])\n",
        "    plt.plot([0, 1], [0, 1], color='red', label='baseline', linestyle='--')\n",
        "    plt.plot(fpr, tpr, color='blue', label=f\"ROC curve (area = {area:.3f})\")\n",
        "    plt.legend()\n",
        "    plt.xlabel(\"False Positive Rate\")\n",
        "    plt.ylabel(\"True Positive Rate\")"
      ],
      "metadata": {
        "id": "5Q0bczWhm3yb"
      },
      "execution_count": null,
      "outputs": []
    },
    {
      "cell_type": "code",
      "source": [
        "plot_roc_curve(y_test, probability)\n",
        "print(f'AUC Score: {roc_auc_score(y_test, probability[:, 1])}')"
      ],
      "metadata": {
        "colab": {
          "base_uri": "https://localhost:8080/",
          "height": 466
        },
        "id": "tnDOigYTqLQd",
        "outputId": "88876cae-7b3a-4e6a-b548-efc4199394ee"
      },
      "execution_count": null,
      "outputs": [
        {
          "output_type": "stream",
          "name": "stdout",
          "text": [
            "AUC Score: 0.9949026197376878\n"
          ]
        },
        {
          "output_type": "display_data",
          "data": {
            "text/plain": [
              "<Figure size 640x480 with 1 Axes>"
            ],
            "image/png": "[encoded data removed]"
          },
          "metadata": {}
        }
      ]
    },
    {
      "cell_type": "code",
      "source": [],
      "metadata": {
        "id": "5QiCYKyeXHuW"
      },
      "execution_count": null,
      "outputs": []
    }
  ]
}